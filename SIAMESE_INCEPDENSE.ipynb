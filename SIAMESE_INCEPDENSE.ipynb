{
  "nbformat": 4,
  "nbformat_minor": 0,
  "metadata": {
    "kernelspec": {
      "display_name": "Python 3",
      "language": "python",
      "name": "python3"
    },
    "language_info": {
      "codemirror_mode": {
        "name": "ipython",
        "version": 3
      },
      "file_extension": ".py",
      "mimetype": "text/x-python",
      "name": "python",
      "nbconvert_exporter": "python",
      "pygments_lexer": "ipython3",
      "version": "3.6.3"
    },
    "colab": {
      "name": "SIAMESE-INCEPDENSE",
      "provenance": [],
      "collapsed_sections": [],
      "machine_shape": "hm",
      "include_colab_link": true
    },
    "accelerator": "GPU"
  },
  "cells": [
    {
      "cell_type": "markdown",
      "metadata": {
        "id": "view-in-github",
        "colab_type": "text"
      },
      "source": [
        "<a href=\"https://colab.research.google.com/github/Satyake/One-Shot-Learning/blob/master/SIAMESE_INCEPDENSE.ipynb\" target=\"_parent\"><img src=\"https://colab.research.google.com/assets/colab-badge.svg\" alt=\"Open In Colab\"/></a>"
      ]
    },
    {
      "cell_type": "code",
      "metadata": {
        "id": "JOyNlkWqgc5y"
      },
      "source": [
        "#!unzip /content/oslmobi.zip\n",
        "#!unzip /content/orl_faces.zip"
      ],
      "execution_count": null,
      "outputs": []
    },
    {
      "cell_type": "code",
      "metadata": {
        "scrolled": false,
        "id": "-9CnFq4NgP2q"
      },
      "source": [
        "import re\n",
        "import numpy as np\n",
        "from keras.callbacks import TensorBoard\n",
        "\n",
        "from PIL import Image\n",
        "\n",
        "from sklearn.model_selection import train_test_split\n",
        "from keras import backend as K\n",
        "from keras.layers import Activation\n",
        "from keras.layers import Input, Lambda, Dense, Dropout, Convolution2D, MaxPooling2D, Flatten\n",
        "from keras.models import Sequential, Model\n",
        "from keras.optimizers import RMSprop\n",
        "from keras.models import Input\n",
        "import keras \n",
        "from keras.layers.core import Dense, Dropout, Activation, Flatten\n",
        "from keras.layers.convolutional import Conv2D, MaxPooling2D, SeparableConv2D\n",
        "from keras.regularizers import l2\n",
        "from keras.optimizers import SGD, RMSprop\n",
        "from keras.utils import to_categorical\n",
        "from keras.layers.normalization import BatchNormalization \n",
        "from keras.utils.vis_utils import plot_model\n",
        "from keras.layers import Input, GlobalAveragePooling2D,Add\n",
        "from keras import models\n",
        "from keras.models import Model\n",
        "import tensorflow as tf\n",
        "import keras\n",
        "from keras.layers import Dense,Conv2D\n",
        "from keras.layers import MaxPool2D\n",
        "from keras.layers import Flatten,Concatenate,Input,Lambda\n",
        "from keras.models import Sequential\n",
        "import tensorflow as tf\n",
        "import numpy as np \n",
        "import random\n",
        "import matplotlib.pyplot as plt\n",
        "from keras.models import Model\n",
        "from keras import backend as K\n",
        "import numpy as np\n",
        "import glob\n",
        "from sklearn.preprocessing import LabelBinarizer\n",
        "import cv2\n",
        "from sklearn.metrics import roc_curve\n",
        "from sklearn.neighbors import KNeighborsClassifier\n",
        "import random\n",
        "import matplotlib.patheffects as PathEffects\n",
        "from keras.layers import Input, Conv2D, Lambda, Dense, Flatten,MaxPooling2D, concatenate\n",
        "from keras.models import Model, Sequential\n",
        "from keras.regularizers import l2\n",
        "from keras import backend as K\n",
        "from keras.optimizers import SGD,Adam\n",
        "from keras.losses import binary_crossentropy\n",
        "import os\n",
        "import pickle\n",
        "import matplotlib.pyplot as plt\n",
        "from itertools import permutations\n",
        "import seaborn as sns\n",
        "from keras.datasets import mnist\n",
        "from sklearn.manifold import TSNE\n",
        "from sklearn.svm import SVC"
      ],
      "execution_count": null,
      "outputs": []
    },
    {
      "cell_type": "code",
      "metadata": {
        "id": "xQKhOcx30cza"
      },
      "source": [
        ""
      ],
      "execution_count": null,
      "outputs": []
    },
    {
      "cell_type": "code",
      "metadata": {
        "id": "dd9VrBex0gw5"
      },
      "source": [
        ""
      ],
      "execution_count": null,
      "outputs": []
    },
    {
      "cell_type": "code",
      "metadata": {
        "id": "TCWeX24NgP2u"
      },
      "source": [
        "def read_image(filename, byteorder='>'):\n",
        "    \n",
        "    #first we read the image, as a raw file to the buffer\n",
        "    with open(filename, 'rb') as f:\n",
        "        buffer = f.read()\n",
        "    \n",
        "    #using regex, we extract the header, width, height and maxval of the image\n",
        "    header, width, height, maxval = re.search(\n",
        "        b\"(^P5\\s(?:\\s*#.*[\\r\\n])*\"\n",
        "        b\"(\\d+)\\s(?:\\s*#.*[\\r\\n])*\"\n",
        "        b\"(\\d+)\\s(?:\\s*#.*[\\r\\n])*\"\n",
        "        b\"(\\d+)\\s(?:\\s*#.*[\\r\\n]\\s)*)\", buffer).groups()\n",
        "    \n",
        "    #then we convert the image to numpy array using np.frombuffer which interprets buffer as one dimensional array\n",
        "    return np.frombuffer(buffer,\n",
        "                            dtype='u1' if int(maxval) < 256 else byteorder+'u2',\n",
        "                            count=int(width)*int(height),\n",
        "                            offset=len(header)\n",
        "                            ).reshape((int(height), int(width)))\n",
        "\n"
      ],
      "execution_count": null,
      "outputs": []
    },
    {
      "cell_type": "code",
      "metadata": {
        "id": "f1vqsVdzgI5H"
      },
      "source": [
        ""
      ],
      "execution_count": null,
      "outputs": []
    },
    {
      "cell_type": "code",
      "metadata": {
        "id": "f8I-laQJgP2z"
      },
      "source": [
        "#a=Image.open(\"/content/F01_112x92_1_92x112.pgm\")\n"
      ],
      "execution_count": null,
      "outputs": []
    },
    {
      "cell_type": "code",
      "metadata": {
        "id": "EnljVZuegP22"
      },
      "source": [
        "#img = read_image(\"/content/F01_112x92_1_92x112.pgm\")"
      ],
      "execution_count": null,
      "outputs": []
    },
    {
      "cell_type": "code",
      "metadata": {
        "id": "sQK9rP-xgP24"
      },
      "source": [
        "#img.shape"
      ],
      "execution_count": null,
      "outputs": []
    },
    {
      "cell_type": "code",
      "metadata": {
        "id": "oilgRbylgP27"
      },
      "source": [
        "size = 2\n",
        "total_sample_size = 30\n",
        "\n",
        "\n",
        "def get_data(size, total_sample_size):\n",
        "    #read the image\n",
        "    image = read_image('/content/orl_faces/s' + str(1) + '/' + str(1) + '.pgm', 'rw+')\n",
        "    #reduce the size\n",
        "    image = image[::size, ::size]\n",
        "    #get the new size\n",
        "    dim1 = image.shape[0]\n",
        "    dim2 = image.shape[1]\n",
        "\n",
        "    count = 0\n",
        "    \n",
        "    #initialize the numpy array with the shape of [total_sample, no_of_pairs, dim1, dim2]\n",
        "    x_geuine_pair = np.zeros([total_sample_size, 2, 1, dim1, dim2])  # 2 is for pairs\n",
        "    y_genuine = np.zeros([total_sample_size, 1])\n",
        "    \n",
        "    for i in range(2):\n",
        "        for j in range(int(total_sample_size/2)):\n",
        "            ind1 = 0\n",
        "            ind2 = 0\n",
        "            \n",
        "            #read images from same directory (genuine pair)\n",
        "            while ind1 == ind2:\n",
        "                ind1 = np.random.randint(2)\n",
        "                ind2 = np.random.randint(2)\n",
        "            \n",
        "            # read the two images\n",
        "            img1 = read_image('/content/orl_faces/s' + str(i+1) + '/' + str(ind1 + 1) + '.pgm', 'rw+')\n",
        "            img2 = read_image('/content/orl_faces/s' + str(i+1) + '/' + str(ind2 + 1) + '.pgm', 'rw+')\n",
        "            \n",
        "            #reduce the size\n",
        "            img1 = img1[::size, ::size]\n",
        "            img2 = img2[::size, ::size]\n",
        "            \n",
        "            #store the images to the initialized numpy array\n",
        "            x_geuine_pair[count, 0, 0, :, :] = img1\n",
        "            x_geuine_pair[count, 1, 0, :, :] = img2\n",
        "            \n",
        "            #as we are drawing images from the same directory we assign label as 1. (genuine pair)\n",
        "            y_genuine[count] = 1\n",
        "            count += 1\n",
        "\n",
        "    count = 0\n",
        "    x_imposite_pair = np.zeros([total_sample_size, 2, 1, dim1, dim2])\n",
        "    y_imposite = np.zeros([total_sample_size, 1])\n",
        "    \n",
        "    for i in range(int(total_sample_size/10)):\n",
        "        for j in range(2):\n",
        "            \n",
        "            #read images from different directory (imposite pair)\n",
        "            while True:\n",
        "                ind1 = np.random.randint(2)\n",
        "                ind2 = np.random.randint(2)\n",
        "                if ind1 != ind2:\n",
        "                    break\n",
        "                    \n",
        "            img1 = read_image('/content/orl_faces/s' + str(ind1+1) + '/' + str(j + 1) + '.pgm', 'rw+')\n",
        "            img2 = read_image('/content/orl_faces/s' + str(ind2+1) + '/' + str(j + 1) + '.pgm', 'rw+')\n",
        "\n",
        "            img1 = img1[::size, ::size]\n",
        "            img2 = img2[::size, ::size]\n",
        "\n",
        "            x_imposite_pair[count, 0, 0, :, :] = img1\n",
        "            x_imposite_pair[count, 1, 0, :, :] = img2\n",
        "            #as we are drawing images from the different directory we assign label as 0. (imposite pair)\n",
        "            y_imposite[count] = 0\n",
        "            count += 1\n",
        "            \n",
        "    #now, concatenate, genuine pairs and imposite pair to get the whole data\n",
        "    X = np.concatenate([x_geuine_pair, x_imposite_pair], axis=0)/255\n",
        "    Y = np.concatenate([y_genuine, y_imposite], axis=0)\n",
        "\n",
        "    return X, Y"
      ],
      "execution_count": null,
      "outputs": []
    },
    {
      "cell_type": "code",
      "metadata": {
        "id": "d_1LWKTgxU1X"
      },
      "source": [
        "#size = 2\n",
        "#total_sample_size = 30\n",
        "\n",
        "\n",
        "#def get_datat(size, total_sample_size):\n",
        "    #read the image\n",
        " #   image = read_image('/content/New folder/s' + str(1) + '/' + str(1) + '.pgm', 'rw+')\n",
        "    #reduce the size\n",
        "  #  image = image[::size, ::size]\n",
        "    #get the new size\n",
        "   # dim1 = image.shape[0]\n",
        "    #dim2 = image.shape[1]\n",
        "\n",
        "    #count = 0\n",
        "    \n",
        "    #initialize the numpy array with the shape of [total_sample, no_of_pairs, dim1, dim2]\n",
        "   # x_geuine_pair = np.zeros([total_sample_size, 2, 1, dim1, dim2])  # 2 is for pairs\n",
        "   # y_genuine = np.zeros([total_sample_size, 1])\n",
        "    \n",
        "    #for i in range(2):\n",
        "     #   for j in range(int(total_sample_size/2)):\n",
        "      #      ind1 = 0\n",
        "       #     ind2 = 0\n",
        "            \n",
        "            #read images from same directory (genuine pair)\n",
        "        #    while ind1 == ind2:\n",
        "         #       ind1 = np.random.randint(2)\n",
        "          #      ind2 = np.random.randint(2)\n",
        "            \n",
        "            # read the two images\n",
        "           # img1 = read_image('/content/New folder/s' + str(i+1) + '/' + str(ind1 + 1) + '.pgm', 'rw+')\n",
        "            #img2 = read_image('/content/New folder/s' + str(i+1) + '/' + str(ind2 + 1) + '.pgm', 'rw+')\n",
        "            \n",
        "            #reduce the size\n",
        "            #img1 = img1[::size, ::size]\n",
        "            #img2 = img2[::size, ::size]\n",
        "            \n",
        "            #store the images to the initialized numpy array\n",
        "            #x_geuine_pair[count, 0, 0, :, :] = img1\n",
        "            #x_geuine_pair[count, 1, 0, :, :] = img2\n",
        "            \n",
        "            #as we are drawing images from the same directory we assign label as 1. (genuine pair)\n",
        "            #y_genuine[count] = 1\n",
        "            #count += 1\n",
        "\n",
        "    #count = 0\n",
        "    #x_imposite_pair = np.zeros([total_sample_size, 2, 1, dim1, dim2])\n",
        "    #y_imposite = np.zeros([total_sample_size, 1])\n",
        "    \n",
        "    #for i in range(int(total_sample_size/10)):\n",
        "     #   for j in range(4):\n",
        "            \n",
        "            #read images from different directory (imposite pair)\n",
        "      #      while True:\n",
        "       #         ind1 = np.random.randint(2)\n",
        "        #        ind2 = np.random.randint(2)\n",
        "         #       if ind1 != ind2:\n",
        "          #          break\n",
        "                    \n",
        "           # img1 = read_image('/content/New folder/s' + str(ind1+1) + '/' + str(j + 1) + '.pgm', 'rw+')\n",
        "           # img2 = read_image('/content/New folder/s' + str(ind2+1) + '/' + str(j + 1) + '.pgm', 'rw+')\n",
        "\n",
        "            #img1 = img1[::size, ::size]\n",
        "            #img2 = img2[::size, ::size]\n",
        "\n",
        "            #x_imposite_pair[count, 0, 0, :, :] = img1\n",
        "            #x_imposite_pair[count, 1, 0, :, :] = img2\n",
        "            #as we are drawing images from the different directory we assign label as 0. (imposite pair)\n",
        "            #y_imposite[count] = 0\n",
        "            #count += 1\n",
        "            \n",
        "    #now, concatenate, genuine pairs and imposite pair to get the whole data\n",
        "    #X = np.concatenate([x_geuine_pair, x_imposite_pair], axis=0)/255\n",
        "    #Y = np.concatenate([y_genuine, y_imposite], axis=0)\n",
        "\n",
        "    #return X, Y"
      ],
      "execution_count": null,
      "outputs": []
    },
    {
      "cell_type": "code",
      "metadata": {
        "id": "h03dLBqjgP2-"
      },
      "source": [
        "X, Y = get_data(size, total_sample_size)"
      ],
      "execution_count": null,
      "outputs": []
    },
    {
      "cell_type": "code",
      "metadata": {
        "id": "8F4Opf26Zl1n"
      },
      "source": [
        "#X1,Y1=get_datat(size,total_sample_size)"
      ],
      "execution_count": null,
      "outputs": []
    },
    {
      "cell_type": "code",
      "metadata": {
        "id": "9cDm-oo3xPfq"
      },
      "source": [
        "#X1,Y1=get_data1(size,total_sample_size)"
      ],
      "execution_count": null,
      "outputs": []
    },
    {
      "cell_type": "code",
      "metadata": {
        "id": "v-laLJ-z76Jj",
        "colab": {
          "base_uri": "https://localhost:8080/"
        },
        "outputId": "99652d42-8268-40e5-cb5a-ab4715d69cda"
      },
      "source": [
        "X.shape"
      ],
      "execution_count": null,
      "outputs": [
        {
          "output_type": "execute_result",
          "data": {
            "text/plain": [
              "(60, 2, 1, 56, 46)"
            ]
          },
          "metadata": {
            "tags": []
          },
          "execution_count": 12
        }
      ]
    },
    {
      "cell_type": "code",
      "metadata": {
        "id": "ry8YOEgOgP3A"
      },
      "source": [
        "#X1.shape"
      ],
      "execution_count": null,
      "outputs": []
    },
    {
      "cell_type": "code",
      "metadata": {
        "id": "6I37g86oy0td"
      },
      "source": [
        ""
      ],
      "execution_count": null,
      "outputs": []
    },
    {
      "cell_type": "code",
      "metadata": {
        "scrolled": true,
        "id": "Q5KhEphGgP3E",
        "colab": {
          "base_uri": "https://localhost:8080/"
        },
        "outputId": "33a9249e-1400-4b2a-ed21-f2e201736ec6"
      },
      "source": [
        "Y.shape"
      ],
      "execution_count": null,
      "outputs": [
        {
          "output_type": "execute_result",
          "data": {
            "text/plain": [
              "(60, 1)"
            ]
          },
          "metadata": {
            "tags": []
          },
          "execution_count": 14
        }
      ]
    },
    {
      "cell_type": "code",
      "metadata": {
        "id": "xFw-pf3KgP3I"
      },
      "source": [
        "x_train, x_test, y_train, y_test = train_test_split(X, Y, test_size=0.96)"
      ],
      "execution_count": null,
      "outputs": []
    },
    {
      "cell_type": "code",
      "metadata": {
        "id": "juf5z-Mw8B91"
      },
      "source": [
        "#x_train2, x_test2, y_train2, y_test2 = train_test_split(X1, Y1, test_size=0.98)"
      ],
      "execution_count": null,
      "outputs": []
    },
    {
      "cell_type": "code",
      "metadata": {
        "id": "ETVVVFBSdC2B",
        "colab": {
          "base_uri": "https://localhost:8080/"
        },
        "outputId": "4893d01d-d3bd-4b17-e31d-ca8818d853cd"
      },
      "source": [
        "x_train.shape"
      ],
      "execution_count": null,
      "outputs": [
        {
          "output_type": "execute_result",
          "data": {
            "text/plain": [
              "(2, 2, 1, 56, 46)"
            ]
          },
          "metadata": {
            "tags": []
          },
          "execution_count": 17
        }
      ]
    },
    {
      "cell_type": "code",
      "metadata": {
        "id": "-KMJP4AhgP3K"
      },
      "source": [
        "#X_test1=x_test\n",
        "#Y_test1=y_test #orl\n",
        "#X_train1=x_train\n",
        "#Y_train1=y_train"
      ],
      "execution_count": null,
      "outputs": []
    },
    {
      "cell_type": "code",
      "metadata": {
        "id": "59aNcvMassS8"
      },
      "source": [
        "#X_test2=x_test2\n",
        "#y_test2=y_test2\n",
        "#X_train2=x_train2\n",
        "#y_train2=y_train2\n"
      ],
      "execution_count": null,
      "outputs": []
    },
    {
      "cell_type": "code",
      "metadata": {
        "id": "IsHS-OnIzIhh",
        "colab": {
          "base_uri": "https://localhost:8080/"
        },
        "outputId": "11369ab4-5433-4e08-9dbd-303814d4c481"
      },
      "source": [
        "x_test.shape"
      ],
      "execution_count": null,
      "outputs": [
        {
          "output_type": "execute_result",
          "data": {
            "text/plain": [
              "(58, 2, 1, 56, 46)"
            ]
          },
          "metadata": {
            "tags": []
          },
          "execution_count": 20
        }
      ]
    },
    {
      "cell_type": "code",
      "metadata": {
        "id": "E5-_By86M94s"
      },
      "source": [
        "x_test=x_test/255\n",
        "x_train=x_train/255"
      ],
      "execution_count": null,
      "outputs": []
    },
    {
      "cell_type": "code",
      "metadata": {
        "id": "0U4L4qskdTQm"
      },
      "source": [
        ""
      ],
      "execution_count": null,
      "outputs": []
    },
    {
      "cell_type": "code",
      "metadata": {
        "id": "IL1aOU3_fjov",
        "colab": {
          "base_uri": "https://localhost:8080/"
        },
        "outputId": "790555b4-e5bc-4772-924a-cdb471303428"
      },
      "source": [
        "x_train.shape"
      ],
      "execution_count": null,
      "outputs": [
        {
          "output_type": "execute_result",
          "data": {
            "text/plain": [
              "(2, 2, 1, 56, 46)"
            ]
          },
          "metadata": {
            "tags": []
          },
          "execution_count": 22
        }
      ]
    },
    {
      "cell_type": "code",
      "metadata": {
        "id": "4jTykwK57qiP"
      },
      "source": [
        ""
      ],
      "execution_count": null,
      "outputs": []
    },
    {
      "cell_type": "code",
      "metadata": {
        "id": "aO_J_l1j8ALi"
      },
      "source": [
        ""
      ],
      "execution_count": null,
      "outputs": []
    },
    {
      "cell_type": "code",
      "metadata": {
        "id": "zsfNmer-fKNV"
      },
      "source": [
        "#def base_model(input):\n",
        " #input=Input(input)\n",
        " #conv_10=keras.layers.Conv2D(32,10,strides=(1,1),padding='SAME',activation=tf.keras.layers.LeakyReLU(alpha=0.3),data_format='channels_first')(input)\n",
        " #conv_5=keras.layers.Conv2D(15,5,strides=(1,1),padding='SAME',activation='relu')(input)\n",
        " #conv_2=keras.layers.Conv2D(20,2,strides=(1,1),padding='SAME',activation='sigmoid')(input)\n",
        " #conv_1x1_standalone=keras.layers.Conv2D(100,1,strides=(1,1),padding='SAME',activation='relu')\n",
        " #conv_1x1_2_standalone=keras.layers.Conv2D(100,1,strides=(1,1),padding='SAME',activation='relu')\n",
        " #conv_1x1_3_standalone=keras.layers.Conv2D(100,1,strides=(1,1),padding='SAME',activation='relu')\n",
        "\n",
        " #concatenate conv_10 with conv 1x1\n",
        " #concat_1=(conv_1x1_standalone)(conv_10)\n",
        " #concatenate conv_5 with conv 1x1\n",
        " #concat_2=(conv_1x1_2_standalone)(conv_5)\n",
        " #concatenate cov_2 with conv1x1\n",
        " #concat_3=(conv_1x1_3_standalone)(conv_2)\n",
        "\n",
        "\n",
        " #MP1=keras.layers.MaxPool2D(pool_size=(1,1))\n",
        " #MP2=keras.layers.MaxPool2D(pool_size=(1,1))\n",
        " #MP3=keras.layers.MaxPool2D(pool_size=(1,1))\n",
        "\n",
        " #concat the concated layers with maxpool\n",
        "\n",
        " #layer1=(MP1)(concat_1)\n",
        " #layer2=(MP2)(concat_2)\n",
        " #layer3=(MP3)(concat_3)\n",
        "\n",
        "# final concat layer \n",
        "\n",
        " #concat_final= keras.layers.concatenate(inputs=[concat_1,concat_2,concat_3],axis=1)\n",
        " #flatten\n",
        " #concat_final_flatten=keras.layers.Flatten()(concat_final)\n",
        "\n",
        "\n",
        " #FC \n",
        " #concat_fc=keras.layers.Dense(1055,activation='relu')(concat_final_flatten)\n",
        " #MODEL=keras.models.Model(inputs=input,outputs=concat_fc)\n",
        "\n",
        " #bottleneck layer\n",
        " #bneck=keras.layers.Conv2D(10,1,strides=1)(concat_final)\n",
        " #DenseNET \n",
        "\n",
        " #conv_dense=keras.layers.Conv2D(50,2,activation='relu')(bneck)\n",
        " #conv_dense_1=keras.layers.Conv2D(10,2,activation='relu')(conv_dense)\n",
        " #con_dense_3=keras.layers.Conv2D(10,1)(conv_dense_1)\n",
        " #con_dense4=keras.layers.concatenate(inputs=[con_dense_3,conv_dense_1],axis=1)\n",
        " #con_dense5=keras.layers.Conv2D(10,2,padding='same',activation='relu')(con_dense4)\n",
        " #con_dense6=keras.layers.Conv2D(10,2,padding='same',activation='relu')(con_dense5)\n",
        " #con_dense7=keras.layers.concatenate(inputs=[con_dense6,con_dense5,con_dense4])\n",
        " #con_dense8=keras.layers.Conv2D(10,2,padding='same',activation='relu')(con_dense7)\n",
        " #con_dense9=keras.layers.Conv2D(10,2,padding='same',activation='relu')(con_dense8) \n",
        " #con_dense10=keras.layers.concatenate(inputs=[con_dense8,con_dense9],axis=1)\n",
        " #con_dense_4=Add()([con_dense_3,conv_dense_1])\n",
        " #Bneck=keras.layers.Conv2D(2,1,padding='same')(con_dense10)\n",
        " #con_dense_11=keras.layers.Flatten()(Bneck)\n",
        "\n",
        " #concat_fc=keras.layers.Dense(1055,activation='relu')(con_dense_11)\n",
        " \n",
        "\n",
        " #MODEL=keras.models.Model(inputs=input,outputs=concat_fc)\n",
        "\n",
        "\n",
        "\n",
        " #return MODEL"
      ],
      "execution_count": null,
      "outputs": []
    },
    {
      "cell_type": "code",
      "metadata": {
        "id": "qjxPoCXT8XQr"
      },
      "source": [
        "#def base_model(input):\n",
        " #input=Input(input)\n",
        " #conv1=keras.layers.Conv2D(4,1,strides=1,padding='SAME',activation='relu')(input)\n",
        " #rl=(keras.layers.LeakyReLU(alpha=0.03))(conv1)\n",
        " #conv2=keras.layers.Conv2D(4,1,strides=1,padding='SAME',activation='linear')(rl)\n",
        " #rl2=(keras.layers.LeakyReLU(alpha=0.03))(conv2)\n",
        " #fc=keras.layers.Flatten()(rl2)\n",
        " #d1=keras.layers.Dense(1000,activation='relu')(fc)\n",
        " #d2=keras.layers.Dense(1000,activation='relu')(d1)\n",
        "\n",
        "\n",
        " #MODEL=keras.models.Model(inputs=input,outputs=d2)\n",
        "\n",
        "\n",
        "\n",
        " #return MODEL"
      ],
      "execution_count": null,
      "outputs": []
    },
    {
      "cell_type": "code",
      "metadata": {
        "id": "XftzBG0_xJiW"
      },
      "source": [
        "def base_model(input):\n",
        " input=Input(input)\n",
        " x = keras.layers.Conv2D(16, (3, 3), activation='relu', padding='same')(input)\n",
        " x = keras.layers.MaxPooling2D((2, 2), padding='same')(x)\n",
        " x = keras.layers.Conv2D(8, (3, 3), activation='relu', padding='same')(x)\n",
        " x = keras.layers.MaxPooling2D((2, 2), padding='same')(x)\n",
        " x = keras.layers.Conv2D(8, (3, 3), activation='relu', padding='same')(x)\n",
        " encoded = keras.layers.MaxPooling2D((2, 2), padding='same')(x)\n",
        "\n",
        "# at this point the representation is (4, 4, 8) i.e. 128-dimensional\n",
        "\n",
        " x = keras.layers.Conv2D(8, (3, 3), activation='relu', padding='same')(encoded)\n",
        " x = keras.layers.UpSampling2D((2, 2))(x)\n",
        " x = keras.layers.Conv2D(8, (3, 3), activation='relu', padding='same')(x)\n",
        " x = keras.layers.UpSampling2D((2, 2))(x)\n",
        " x = keras.layers.Conv2D(16, (3, 3), activation='relu')(x)\n",
        " x = keras.layers.UpSampling2D((2, 2))(x)\n",
        " decoded = keras.layers.Conv2D(1, (3, 3), activation='sigmoid', padding='same')(x)\n",
        " decoded_F=keras.layers.Flatten()(decoded)\n",
        "\n",
        " MODEL=keras.models.Model(inputs=input,outputs=decoded_F)\n",
        "\n",
        "\n",
        "\n",
        " return MODEL"
      ],
      "execution_count": null,
      "outputs": []
    },
    {
      "cell_type": "code",
      "metadata": {
        "id": "17FdQcuH345T"
      },
      "source": [
        ""
      ],
      "execution_count": null,
      "outputs": []
    },
    {
      "cell_type": "code",
      "metadata": {
        "id": "nWigBPTJk-Vd"
      },
      "source": [
        ""
      ],
      "execution_count": null,
      "outputs": []
    },
    {
      "cell_type": "code",
      "metadata": {
        "id": "bIBE_dGQ-ToL"
      },
      "source": [
        "#Eucledian Distance Function  #Imported From Keras Documentation \n",
        "def euclidean_distance(vects):\n",
        "    x, y = vects\n",
        "    sum_square = K.sum(K.square(x - y), axis=1, keepdims=True)\n",
        "    return K.sqrt(K.maximum(sum_square, K.epsilon()))\n",
        "\n",
        "def contrastive_loss(y_true, y_pred):\n",
        "    '''Contrastive loss from Hadsell-et-al.'06\n",
        "    http://yann.lecun.com/exdb/publis/pdf/hadsell-chopra-lecun-06.pdf\n",
        "    '''\n",
        "    margin = 1\n",
        "    square_pred = K.square(y_pred)\n",
        "    margin_square = K.square(K.maximum(margin - y_pred, 0))\n",
        "    return K.mean(y_true * square_pred + (1 - y_true) * margin_square)"
      ],
      "execution_count": null,
      "outputs": []
    },
    {
      "cell_type": "code",
      "metadata": {
        "id": "rNEmFGr3MBxF"
      },
      "source": [
        ""
      ],
      "execution_count": null,
      "outputs": []
    },
    {
      "cell_type": "code",
      "metadata": {
        "id": "2VPQ_DycPDvJ",
        "colab": {
          "base_uri": "https://localhost:8080/"
        },
        "outputId": "416b23a3-637e-495c-f107-5fcbefc3b12c"
      },
      "source": [
        "x_train.shape[2:]"
      ],
      "execution_count": null,
      "outputs": [
        {
          "output_type": "execute_result",
          "data": {
            "text/plain": [
              "(1, 56, 46)"
            ]
          },
          "metadata": {
            "tags": []
          },
          "execution_count": 27
        }
      ]
    },
    {
      "cell_type": "code",
      "metadata": {
        "id": "rdL3sFlqgP3N"
      },
      "source": [
        "input_dim = x_train.shape[2:]\n",
        "img_a = Input(shape=input_dim)\n",
        "img_b = Input(shape=input_dim)\n",
        "#input_dim=(56,46,1)\n",
        "#img_a=(56,46,1)\n",
        "#img_b=(56,46,1)"
      ],
      "execution_count": null,
      "outputs": []
    },
    {
      "cell_type": "code",
      "metadata": {
        "id": "7WBDUM6hgRzS",
        "colab": {
          "base_uri": "https://localhost:8080/"
        },
        "outputId": "a3394ec3-a8ca-4279-ec4c-c2eb57969773"
      },
      "source": [
        "img_a.shape"
      ],
      "execution_count": null,
      "outputs": [
        {
          "output_type": "execute_result",
          "data": {
            "text/plain": [
              "TensorShape([None, 1, 56, 46])"
            ]
          },
          "metadata": {
            "tags": []
          },
          "execution_count": 29
        }
      ]
    },
    {
      "cell_type": "code",
      "metadata": {
        "id": "qUrkAeb_gP3P"
      },
      "source": [
        "base_network = base_model(input_dim)\n",
        "feat_vecs_a = base_network(img_a)\n",
        "feat_vecs_b = base_network(img_b)"
      ],
      "execution_count": null,
      "outputs": []
    },
    {
      "cell_type": "code",
      "metadata": {
        "id": "-nCrU1dc-sGU"
      },
      "source": [
        ""
      ],
      "execution_count": null,
      "outputs": []
    },
    {
      "cell_type": "code",
      "metadata": {
        "id": "oGNzt2QagP3T"
      },
      "source": [
        "def euclidean_distance(vects):\n",
        "    x, y = vects\n",
        "    return K.sqrt(K.sum(K.square(x - y), axis=1, keepdims=True))\n",
        "\n",
        "\n",
        "def eucl_dist_output_shape(shapes):\n",
        "    shape1, shape2 = shapes\n",
        "    return (shape1[0], 1)"
      ],
      "execution_count": null,
      "outputs": []
    },
    {
      "cell_type": "code",
      "metadata": {
        "id": "oLgBVqz7gP3W"
      },
      "source": [
        "distance = Lambda(euclidean_distance)([feat_vecs_a, feat_vecs_b])"
      ],
      "execution_count": null,
      "outputs": []
    },
    {
      "cell_type": "code",
      "metadata": {
        "id": "Mn6ZlrbZgP3Y"
      },
      "source": [
        "epochs = 100\n",
        "rms = RMSprop()"
      ],
      "execution_count": null,
      "outputs": []
    },
    {
      "cell_type": "code",
      "metadata": {
        "id": "_yEILBo6gP3a"
      },
      "source": [
        "model = Model(inputs=[img_a, img_b], outputs=distance)"
      ],
      "execution_count": null,
      "outputs": []
    },
    {
      "cell_type": "code",
      "metadata": {
        "id": "ktkhBqEIj2Tu",
        "colab": {
          "base_uri": "https://localhost:8080/"
        },
        "outputId": "48f11676-08af-4aa3-b546-a3276a42fe44"
      },
      "source": [
        "model.summary()"
      ],
      "execution_count": null,
      "outputs": [
        {
          "output_type": "stream",
          "text": [
            "Model: \"functional_3\"\n",
            "__________________________________________________________________________________________________\n",
            "Layer (type)                    Output Shape         Param #     Connected to                     \n",
            "==================================================================================================\n",
            "input_1 (InputLayer)            [(None, 1, 56, 46)]  0                                            \n",
            "__________________________________________________________________________________________________\n",
            "input_2 (InputLayer)            [(None, 1, 56, 46)]  0                                            \n",
            "__________________________________________________________________________________________________\n",
            "functional_1 (Functional)       (None, 208)          10865       input_1[0][0]                    \n",
            "                                                                 input_2[0][0]                    \n",
            "__________________________________________________________________________________________________\n",
            "lambda (Lambda)                 (None, 1)            0           functional_1[0][0]               \n",
            "                                                                 functional_1[1][0]               \n",
            "==================================================================================================\n",
            "Total params: 10,865\n",
            "Trainable params: 10,865\n",
            "Non-trainable params: 0\n",
            "__________________________________________________________________________________________________\n"
          ],
          "name": "stdout"
        }
      ]
    },
    {
      "cell_type": "code",
      "metadata": {
        "id": "BstVSe5a-xA-"
      },
      "source": [
        ""
      ],
      "execution_count": null,
      "outputs": []
    },
    {
      "cell_type": "code",
      "metadata": {
        "id": "Qo6O0qJkMnbR"
      },
      "source": [
        "%load_ext tensorboard\n",
        "import tensorboard"
      ],
      "execution_count": null,
      "outputs": []
    },
    {
      "cell_type": "code",
      "metadata": {
        "id": "F29wwQQ9M6fX"
      },
      "source": [
        "from datetime import datetime\n",
        "from packaging import version\n",
        "\n"
      ],
      "execution_count": null,
      "outputs": []
    },
    {
      "cell_type": "code",
      "metadata": {
        "id": "XbgoG-_SM1qA"
      },
      "source": [
        "logdir=\"logs/fit/\" + datetime.now().strftime(\"%Y%m%d-%H%M%S\")\n",
        "tensorboard_callback = keras.callbacks.TensorBoard(log_dir=logdir)"
      ],
      "execution_count": null,
      "outputs": []
    },
    {
      "cell_type": "code",
      "metadata": {
        "id": "HwSj9UxDCAOS"
      },
      "source": [
        "from timeit import default_timer as timer\n",
        "\n",
        "class TimingCallback(keras.callbacks.Callback):\n",
        "    def __init__(self, logs={}):\n",
        "        self.logs=[]\n",
        "    def on_epoch_begin(self, epoch, logs={}):\n",
        "        self.starttime = timer()\n",
        "    def on_epoch_end(self, epoch, logs={}):\n",
        "        self.logs.append(timer()-self.starttime)\n",
        "\n",
        "cb = TimingCallback()\n",
        "\n",
        "#model = Sequential()\n",
        "# Your code\n",
        "#model.fit(X, y, epochs=epochs, batch_size=batch_size, callbacks=[cb])\n",
        "#print(cb.logs)\n",
        "#print(sum(cb.logs))"
      ],
      "execution_count": null,
      "outputs": []
    },
    {
      "cell_type": "code",
      "metadata": {
        "id": "0mmUUc3W96W5"
      },
      "source": [
        ""
      ],
      "execution_count": null,
      "outputs": []
    },
    {
      "cell_type": "code",
      "metadata": {
        "id": "ZsB7NSZlgP3c"
      },
      "source": [
        "def contrastive_loss(y_true, y_pred):\n",
        "    margin = 1\n",
        "    return K.mean(y_true * K.square(y_pred) + (1 - y_true) * K.square(K.maximum(margin - y_pred, 0)))"
      ],
      "execution_count": null,
      "outputs": []
    },
    {
      "cell_type": "code",
      "metadata": {
        "id": "WkReWkfy8Jfs"
      },
      "source": [
        ""
      ],
      "execution_count": null,
      "outputs": []
    },
    {
      "cell_type": "code",
      "metadata": {
        "id": "L3qWpcZKgP3f"
      },
      "source": [
        "model.compile(loss=contrastive_loss, optimizer=rms)"
      ],
      "execution_count": null,
      "outputs": []
    },
    {
      "cell_type": "code",
      "metadata": {
        "id": "WKzTiXlNgP3g"
      },
      "source": [
        "img_1 = x_train[:, 0]\n",
        "img2 = x_train[:, 1]"
      ],
      "execution_count": null,
      "outputs": []
    },
    {
      "cell_type": "code",
      "metadata": {
        "id": "uajOIME3gP3j",
        "colab": {
          "base_uri": "https://localhost:8080/"
        },
        "outputId": "6556e978-9b3a-42df-9be2-dedd7d55f924"
      },
      "source": [
        "model.fit([img_1, img2], y_train,\n",
        "          batch_size=128, verbose=2, epochs=10,callbacks=[cb])\n"
      ],
      "execution_count": null,
      "outputs": [
        {
          "output_type": "stream",
          "text": [
            "Epoch 1/10\n",
            "1/1 - 0s - loss: 0.5000\n",
            "Epoch 2/10\n",
            "1/1 - 0s - loss: nan\n",
            "Epoch 3/10\n",
            "1/1 - 0s - loss: nan\n",
            "Epoch 4/10\n",
            "1/1 - 0s - loss: nan\n",
            "Epoch 5/10\n",
            "1/1 - 0s - loss: nan\n",
            "Epoch 6/10\n",
            "1/1 - 0s - loss: nan\n",
            "Epoch 7/10\n",
            "1/1 - 0s - loss: nan\n",
            "Epoch 8/10\n",
            "1/1 - 0s - loss: nan\n",
            "Epoch 9/10\n",
            "1/1 - 0s - loss: nan\n",
            "Epoch 10/10\n",
            "1/1 - 0s - loss: nan\n"
          ],
          "name": "stdout"
        },
        {
          "output_type": "execute_result",
          "data": {
            "text/plain": [
              "<tensorflow.python.keras.callbacks.History at 0x7f8c3003b940>"
            ]
          },
          "metadata": {
            "tags": []
          },
          "execution_count": 43
        }
      ]
    },
    {
      "cell_type": "code",
      "metadata": {
        "id": "vf471cA04NBn",
        "colab": {
          "base_uri": "https://localhost:8080/",
          "height": 312
        },
        "outputId": "3c93cb6e-f86e-4a42-81f2-d327b52eb848"
      },
      "source": [
        "plot_model(model, to_file='model_plot.png', show_shapes=True, show_layer_names=True)"
      ],
      "execution_count": null,
      "outputs": [
        {
          "output_type": "execute_result",
          "data": {
            "image/png": "[encoded data removed]",
            "text/plain": [
              "<IPython.core.display.Image object>"
            ]
          },
          "metadata": {
            "tags": []
          },
          "execution_count": 44
        }
      ]
    },
    {
      "cell_type": "code",
      "metadata": {
        "id": "DyD42n-M08nO",
        "colab": {
          "base_uri": "https://localhost:8080/"
        },
        "outputId": "e0541c70-5931-44db-b6a8-af1c35cd89d7"
      },
      "source": [
        "print(cb.logs)\n",
        "print(sum(cb.logs))"
      ],
      "execution_count": null,
      "outputs": [
        {
          "output_type": "stream",
          "text": [
            "[3.584136266999849, 0.008804907000012463, 0.007961240999975416, 0.007131828999717982, 0.007430958999975701, 0.006952984999770706, 0.007117367999853741, 0.006710483999995631, 0.007409654000184673, 0.007067489000291971]\n",
            "3.650723182999627\n"
          ],
          "name": "stdout"
        }
      ]
    },
    {
      "cell_type": "code",
      "metadata": {
        "id": "U7YGzmStNfDz"
      },
      "source": [
        "#%tensorboard --logdir logs\n",
        "\n",
        "#ensorboard --logdir logs\n"
      ],
      "execution_count": null,
      "outputs": []
    },
    {
      "cell_type": "code",
      "metadata": {
        "id": "34_jMlo9vqeD"
      },
      "source": [
        ""
      ],
      "execution_count": null,
      "outputs": []
    },
    {
      "cell_type": "code",
      "metadata": {
        "id": "pPIgvfmvgP3m"
      },
      "source": [
        "pred = model.predict([x_test[:, 0], x_test[:, 1]])"
      ],
      "execution_count": null,
      "outputs": []
    },
    {
      "cell_type": "code",
      "metadata": {
        "id": "jdCouMR4yaOi"
      },
      "source": [
        ""
      ],
      "execution_count": null,
      "outputs": []
    },
    {
      "cell_type": "code",
      "metadata": {
        "id": "tIYopA1yyfl1"
      },
      "source": [
        ""
      ],
      "execution_count": null,
      "outputs": []
    },
    {
      "cell_type": "code",
      "metadata": {
        "id": "V8b22g7RgP3o"
      },
      "source": [
        "def compute_accuracy(predictions, labels):\n",
        "    return labels[predictions.ravel() < 0.5].mean()"
      ],
      "execution_count": null,
      "outputs": []
    },
    {
      "cell_type": "code",
      "metadata": {
        "scrolled": true,
        "id": "wceVAt5BgP3p"
      },
      "source": [
        ""
      ],
      "execution_count": null,
      "outputs": []
    },
    {
      "cell_type": "code",
      "metadata": {
        "id": "1z8-68_8uDj5"
      },
      "source": [
        ""
      ],
      "execution_count": null,
      "outputs": []
    },
    {
      "cell_type": "code",
      "metadata": {
        "id": "k46-C9giTXhW"
      },
      "source": [
        ""
      ],
      "execution_count": null,
      "outputs": []
    },
    {
      "cell_type": "code",
      "metadata": {
        "id": "JRSCGSAJrnOT"
      },
      "source": [
        "#y_test[pred.ravel()<0.5]"
      ],
      "execution_count": null,
      "outputs": []
    },
    {
      "cell_type": "code",
      "metadata": {
        "id": "z4C4meB-MJTp"
      },
      "source": [
        ""
      ],
      "execution_count": null,
      "outputs": []
    },
    {
      "cell_type": "code",
      "metadata": {
        "id": "Vf1UDvKJrq7b",
        "colab": {
          "base_uri": "https://localhost:8080/"
        },
        "outputId": "289f8365-55ed-4465-a981-4c117e697cc7"
      },
      "source": [
        "pred.ravel()<0.5"
      ],
      "execution_count": null,
      "outputs": [
        {
          "output_type": "execute_result",
          "data": {
            "text/plain": [
              "array([False, False, False, False, False, False, False, False, False,\n",
              "       False, False, False, False, False, False, False, False, False,\n",
              "       False, False, False, False, False, False, False, False, False,\n",
              "       False, False, False, False, False, False, False, False, False,\n",
              "       False, False, False, False, False, False, False, False, False,\n",
              "       False, False, False, False, False, False, False, False, False,\n",
              "       False, False, False, False])"
            ]
          },
          "metadata": {
            "tags": []
          },
          "execution_count": 50
        }
      ]
    },
    {
      "cell_type": "code",
      "metadata": {
        "id": "NsKp0QSfLMXV",
        "colab": {
          "base_uri": "https://localhost:8080/"
        },
        "outputId": "d994d792-8486-4238-9dbd-20f095af4a64"
      },
      "source": [
        "from sklearn.metrics import confusion_matrix,f1_score,recall_score,accuracy_score,precision_score\n",
        "cm=confusion_matrix(pred.ravel()<0.5,y_test.ravel()>0.5)\n",
        "ps=precision_score(pred.ravel()<0.5,y_test.ravel()>0.5)\n",
        "acs=accuracy_score(pred.ravel()<0.5,y_test.ravel()>0.5)\n",
        "rcs=recall_score(pred.ravel()<0.5,y_test.ravel()>0.5)\n",
        "f1=f1_score(pred.ravel()<0.5,y_test.ravel()>0.5)\n"
      ],
      "execution_count": null,
      "outputs": [
        {
          "output_type": "stream",
          "text": [
            "/usr/local/lib/python3.6/dist-packages/sklearn/metrics/_classification.py:1272: UndefinedMetricWarning: Recall is ill-defined and being set to 0.0 due to no true samples. Use `zero_division` parameter to control this behavior.\n",
            "  _warn_prf(average, modifier, msg_start, len(result))\n"
          ],
          "name": "stderr"
        }
      ]
    },
    {
      "cell_type": "code",
      "metadata": {
        "id": "qPh43a40Au9j",
        "colab": {
          "base_uri": "https://localhost:8080/"
        },
        "outputId": "d3a9a726-a2ac-4bf3-868d-51ca420e5fec"
      },
      "source": [
        "cm"
      ],
      "execution_count": null,
      "outputs": [
        {
          "output_type": "execute_result",
          "data": {
            "text/plain": [
              "array([[29, 29],\n",
              "       [ 0,  0]])"
            ]
          },
          "metadata": {
            "tags": []
          },
          "execution_count": 52
        }
      ]
    },
    {
      "cell_type": "code",
      "metadata": {
        "id": "DRgSR4FAaHwD",
        "colab": {
          "base_uri": "https://localhost:8080/"
        },
        "outputId": "d28bb492-108d-4881-b1ac-6fa35461d0a7"
      },
      "source": [
        "print('Accuracy is ', acs)\n",
        "print('sensitvity is',rcs)\n",
        "print('precision is',ps)\n",
        "print('fscore is ',f1)"
      ],
      "execution_count": null,
      "outputs": [
        {
          "output_type": "stream",
          "text": [
            "Accuracy is  0.5\n",
            "sensitvity is 0.0\n",
            "precision is 0.0\n",
            "fscore is  0.0\n"
          ],
          "name": "stdout"
        }
      ]
    },
    {
      "cell_type": "code",
      "metadata": {
        "id": "-49SdPj1awUi",
        "colab": {
          "base_uri": "https://localhost:8080/",
          "height": 333
        },
        "outputId": "664ddcdb-f7dc-482f-8e96-817ba4b80406"
      },
      "source": [
        "from mlxtend.plotting import plot_confusion_matrix\n",
        "import matplotlib.pyplot as plt\n",
        "import numpy as np\n",
        "\n",
        "binary1 = np.array(cm)\n",
        "\n",
        "fig, ax = plot_confusion_matrix(conf_mat=binary1)\n",
        "plt.show()"
      ],
      "execution_count": null,
      "outputs": [
        {
          "output_type": "stream",
          "text": [
            "/usr/local/lib/python3.6/dist-packages/mlxtend/plotting/plot_confusion_matrix.py:59: RuntimeWarning: invalid value encountered in true_divide\n",
            "  normed_conf_mat = conf_mat.astype('float') / total_samples\n"
          ],
          "name": "stderr"
        },
        {
          "output_type": "display_data",
          "data": {
            "image/png": "[encoded data removed]",
            "text/plain": [
              "<Figure size 432x288 with 1 Axes>"
            ]
          },
          "metadata": {
            "tags": [],
            "needs_background": "light"
          }
        }
      ]
    },
    {
      "cell_type": "code",
      "metadata": {
        "id": "TDcdeeEFb0ws",
        "colab": {
          "base_uri": "https://localhost:8080/"
        },
        "outputId": "0d126290-a664-4fef-b732-4b52e6123702"
      },
      "source": [
        "y_test.ravel()>0.5"
      ],
      "execution_count": null,
      "outputs": [
        {
          "output_type": "execute_result",
          "data": {
            "text/plain": [
              "array([False,  True,  True,  True, False, False, False, False,  True,\n",
              "        True,  True, False, False, False, False,  True, False, False,\n",
              "       False, False,  True, False, False,  True,  True,  True, False,\n",
              "       False,  True,  True, False,  True, False, False, False, False,\n",
              "       False, False,  True,  True,  True,  True, False,  True,  True,\n",
              "        True,  True, False,  True,  True,  True,  True, False,  True,\n",
              "       False, False,  True,  True])"
            ]
          },
          "metadata": {
            "tags": []
          },
          "execution_count": 55
        }
      ]
    },
    {
      "cell_type": "code",
      "metadata": {
        "id": "rvXdnb31T5Lp"
      },
      "source": [
        "#y_test2.ravel()>0.5"
      ],
      "execution_count": null,
      "outputs": []
    },
    {
      "cell_type": "code",
      "metadata": {
        "id": "lRnB0eeXXaPY",
        "colab": {
          "base_uri": "https://localhost:8080/"
        },
        "outputId": "28341a86-8f2b-4ff0-8067-abea6ab56fad"
      },
      "source": [
        "y_test.ravel()>0.5\n"
      ],
      "execution_count": null,
      "outputs": [
        {
          "output_type": "execute_result",
          "data": {
            "text/plain": [
              "array([False,  True,  True,  True, False, False, False, False,  True,\n",
              "        True,  True, False, False, False, False,  True, False, False,\n",
              "       False, False,  True, False, False,  True,  True,  True, False,\n",
              "       False,  True,  True, False,  True, False, False, False, False,\n",
              "       False, False,  True,  True,  True,  True, False,  True,  True,\n",
              "        True,  True, False,  True,  True,  True,  True, False,  True,\n",
              "       False, False,  True,  True])"
            ]
          },
          "metadata": {
            "tags": []
          },
          "execution_count": 57
        }
      ]
    },
    {
      "cell_type": "code",
      "metadata": {
        "id": "KMHMGF1nycl6",
        "colab": {
          "base_uri": "https://localhost:8080/"
        },
        "outputId": "cff13e32-b6ce-4fad-9ed9-28416c636eea"
      },
      "source": [
        "pred.ravel()>0.5"
      ],
      "execution_count": null,
      "outputs": [
        {
          "output_type": "execute_result",
          "data": {
            "text/plain": [
              "array([ True,  True,  True,  True,  True,  True,  True,  True,  True,\n",
              "        True,  True,  True,  True,  True,  True,  True,  True,  True,\n",
              "        True,  True,  True,  True,  True,  True,  True,  True,  True,\n",
              "        True,  True,  True,  True,  True,  True,  True,  True,  True,\n",
              "        True,  True,  True,  True,  True,  True,  True,  True,  True,\n",
              "        True,  True,  True,  True,  True,  True,  True,  True,  True,\n",
              "        True,  True,  True,  True])"
            ]
          },
          "metadata": {
            "tags": []
          },
          "execution_count": 58
        }
      ]
    },
    {
      "cell_type": "code",
      "metadata": {
        "id": "YtIWo_3yTCt5",
        "colab": {
          "base_uri": "https://localhost:8080/",
          "height": 336
        },
        "outputId": "67847618-d6ac-4c7d-9e3c-4a2bc0bec211"
      },
      "source": [
        "from sklearn.metrics import roc_curve\n",
        "y_pred_keras = model.predict([x_test[:, 0], x_test[:, 1]])\n",
        "fpr_keras, tpr_keras, thresholds_keras = roc_curve(y_test, y_pred_keras)"
      ],
      "execution_count": null,
      "outputs": [
        {
          "output_type": "error",
          "ename": "ValueError",
          "evalue": "ignored",
          "traceback": [
            "\u001b[0;31m---------------------------------------------------------------------------\u001b[0m",
            "\u001b[0;31mValueError\u001b[0m                                Traceback (most recent call last)",
            "\u001b[0;32m<ipython-input-59-e01ed1cba394>\u001b[0m in \u001b[0;36m<module>\u001b[0;34m()\u001b[0m\n\u001b[1;32m      1\u001b[0m \u001b[0;32mfrom\u001b[0m \u001b[0msklearn\u001b[0m\u001b[0;34m.\u001b[0m\u001b[0mmetrics\u001b[0m \u001b[0;32mimport\u001b[0m \u001b[0mroc_curve\u001b[0m\u001b[0;34m\u001b[0m\u001b[0;34m\u001b[0m\u001b[0m\n\u001b[1;32m      2\u001b[0m \u001b[0my_pred_keras\u001b[0m \u001b[0;34m=\u001b[0m \u001b[0mmodel\u001b[0m\u001b[0;34m.\u001b[0m\u001b[0mpredict\u001b[0m\u001b[0;34m(\u001b[0m\u001b[0;34m[\u001b[0m\u001b[0mx_test\u001b[0m\u001b[0;34m[\u001b[0m\u001b[0;34m:\u001b[0m\u001b[0;34m,\u001b[0m \u001b[0;36m0\u001b[0m\u001b[0;34m]\u001b[0m\u001b[0;34m,\u001b[0m \u001b[0mx_test\u001b[0m\u001b[0;34m[\u001b[0m\u001b[0;34m:\u001b[0m\u001b[0;34m,\u001b[0m \u001b[0;36m1\u001b[0m\u001b[0;34m]\u001b[0m\u001b[0;34m]\u001b[0m\u001b[0;34m)\u001b[0m\u001b[0;34m\u001b[0m\u001b[0;34m\u001b[0m\u001b[0m\n\u001b[0;32m----> 3\u001b[0;31m \u001b[0mfpr_keras\u001b[0m\u001b[0;34m,\u001b[0m \u001b[0mtpr_keras\u001b[0m\u001b[0;34m,\u001b[0m \u001b[0mthresholds_keras\u001b[0m \u001b[0;34m=\u001b[0m \u001b[0mroc_curve\u001b[0m\u001b[0;34m(\u001b[0m\u001b[0my_test\u001b[0m\u001b[0;34m,\u001b[0m \u001b[0my_pred_keras\u001b[0m\u001b[0;34m)\u001b[0m\u001b[0;34m\u001b[0m\u001b[0;34m\u001b[0m\u001b[0m\n\u001b[0m",
            "\u001b[0;32m/usr/local/lib/python3.6/dist-packages/sklearn/metrics/_ranking.py\u001b[0m in \u001b[0;36mroc_curve\u001b[0;34m(y_true, y_score, pos_label, sample_weight, drop_intermediate)\u001b[0m\n\u001b[1;32m    769\u001b[0m     \"\"\"\n\u001b[1;32m    770\u001b[0m     fps, tps, thresholds = _binary_clf_curve(\n\u001b[0;32m--> 771\u001b[0;31m         y_true, y_score, pos_label=pos_label, sample_weight=sample_weight)\n\u001b[0m\u001b[1;32m    772\u001b[0m \u001b[0;34m\u001b[0m\u001b[0m\n\u001b[1;32m    773\u001b[0m     \u001b[0;31m# Attempt to drop thresholds corresponding to points in between and\u001b[0m\u001b[0;34m\u001b[0m\u001b[0;34m\u001b[0m\u001b[0;34m\u001b[0m\u001b[0m\n",
            "\u001b[0;32m/usr/local/lib/python3.6/dist-packages/sklearn/metrics/_ranking.py\u001b[0m in \u001b[0;36m_binary_clf_curve\u001b[0;34m(y_true, y_score, pos_label, sample_weight)\u001b[0m\n\u001b[1;32m    540\u001b[0m     \u001b[0my_score\u001b[0m \u001b[0;34m=\u001b[0m \u001b[0mcolumn_or_1d\u001b[0m\u001b[0;34m(\u001b[0m\u001b[0my_score\u001b[0m\u001b[0;34m)\u001b[0m\u001b[0;34m\u001b[0m\u001b[0;34m\u001b[0m\u001b[0m\n\u001b[1;32m    541\u001b[0m     \u001b[0massert_all_finite\u001b[0m\u001b[0;34m(\u001b[0m\u001b[0my_true\u001b[0m\u001b[0;34m)\u001b[0m\u001b[0;34m\u001b[0m\u001b[0;34m\u001b[0m\u001b[0m\n\u001b[0;32m--> 542\u001b[0;31m     \u001b[0massert_all_finite\u001b[0m\u001b[0;34m(\u001b[0m\u001b[0my_score\u001b[0m\u001b[0;34m)\u001b[0m\u001b[0;34m\u001b[0m\u001b[0;34m\u001b[0m\u001b[0m\n\u001b[0m\u001b[1;32m    543\u001b[0m \u001b[0;34m\u001b[0m\u001b[0m\n\u001b[1;32m    544\u001b[0m     \u001b[0;32mif\u001b[0m \u001b[0msample_weight\u001b[0m \u001b[0;32mis\u001b[0m \u001b[0;32mnot\u001b[0m \u001b[0;32mNone\u001b[0m\u001b[0;34m:\u001b[0m\u001b[0;34m\u001b[0m\u001b[0;34m\u001b[0m\u001b[0m\n",
            "\u001b[0;32m/usr/local/lib/python3.6/dist-packages/sklearn/utils/validation.py\u001b[0m in \u001b[0;36massert_all_finite\u001b[0;34m(X, allow_nan)\u001b[0m\n\u001b[1;32m     75\u001b[0m     \u001b[0mallow_nan\u001b[0m \u001b[0;34m:\u001b[0m \u001b[0mbool\u001b[0m\u001b[0;34m\u001b[0m\u001b[0;34m\u001b[0m\u001b[0m\n\u001b[1;32m     76\u001b[0m     \"\"\"\n\u001b[0;32m---> 77\u001b[0;31m     \u001b[0m_assert_all_finite\u001b[0m\u001b[0;34m(\u001b[0m\u001b[0mX\u001b[0m\u001b[0;34m.\u001b[0m\u001b[0mdata\u001b[0m \u001b[0;32mif\u001b[0m \u001b[0msp\u001b[0m\u001b[0;34m.\u001b[0m\u001b[0missparse\u001b[0m\u001b[0;34m(\u001b[0m\u001b[0mX\u001b[0m\u001b[0;34m)\u001b[0m \u001b[0;32melse\u001b[0m \u001b[0mX\u001b[0m\u001b[0;34m,\u001b[0m \u001b[0mallow_nan\u001b[0m\u001b[0;34m)\u001b[0m\u001b[0;34m\u001b[0m\u001b[0;34m\u001b[0m\u001b[0m\n\u001b[0m\u001b[1;32m     78\u001b[0m \u001b[0;34m\u001b[0m\u001b[0m\n\u001b[1;32m     79\u001b[0m \u001b[0;34m\u001b[0m\u001b[0m\n",
            "\u001b[0;32m/usr/local/lib/python3.6/dist-packages/sklearn/utils/validation.py\u001b[0m in \u001b[0;36m_assert_all_finite\u001b[0;34m(X, allow_nan, msg_dtype)\u001b[0m\n\u001b[1;32m     58\u001b[0m                     \u001b[0mmsg_err\u001b[0m\u001b[0;34m.\u001b[0m\u001b[0mformat\u001b[0m\u001b[0;34m\u001b[0m\u001b[0;34m\u001b[0m\u001b[0m\n\u001b[1;32m     59\u001b[0m                     (type_err,\n\u001b[0;32m---> 60\u001b[0;31m                      msg_dtype if msg_dtype is not None else X.dtype)\n\u001b[0m\u001b[1;32m     61\u001b[0m             )\n\u001b[1;32m     62\u001b[0m     \u001b[0;31m# for object dtype data, we only check for NaNs (GH-13254)\u001b[0m\u001b[0;34m\u001b[0m\u001b[0;34m\u001b[0m\u001b[0;34m\u001b[0m\u001b[0m\n",
            "\u001b[0;31mValueError\u001b[0m: Input contains NaN, infinity or a value too large for dtype('float32')."
          ]
        }
      ]
    },
    {
      "cell_type": "code",
      "metadata": {
        "id": "rPyLG2J0IR-e"
      },
      "source": [
        "from sklearn.metrics import auc\n",
        "auc_keras = auc(fpr_keras, tpr_keras)"
      ],
      "execution_count": null,
      "outputs": []
    },
    {
      "cell_type": "code",
      "metadata": {
        "id": "G9eAPCCvIWy0"
      },
      "source": [
        "auc_keras"
      ],
      "execution_count": null,
      "outputs": []
    }
  ]
}