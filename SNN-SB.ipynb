{
 "cells": [
  {
   "cell_type": "markdown",
   "id": "ef32c72a",
   "metadata": {},
   "source": [
    "# Siamese Network , L2 Contrastive Loss Function © Satyake\n",
    "\n",
    "#### Source https://github.com/Satyake/One-Shot-Learning\n",
    "###### All rights reserved CC-BY share alike\n",
    "###### Adaptation of the Code based on:  \n",
    " Bakshi, S., Rajan, S.: Few-shot fall detection using shallow siamese network. 2021 IEEE International\n",
    " Symposium on Medical Measurements and Applications\n",
    " (MeMeA) pp. 1–5 (2021)   \n"
   ]
  },
  {
   "cell_type": "markdown",
   "id": "5ad87e26",
   "metadata": {},
   "source": [
    "###### General Imports "
   ]
  },
  {
   "cell_type": "code",
   "execution_count": null,
   "id": "8518ea19",
   "metadata": {},
   "outputs": [],
   "source": [
    "import keras\n",
    "from keras.layers import Dense,Conv2D\n",
    "from keras.layers import MaxPool2D\n",
    "from keras.layers import Flatten,Concatenate,Input,Lambda\n",
    "from keras.models import Sequential\n",
    "import tensorflow as tf\n",
    "import numpy as np \n",
    "import random\n",
    "import matplotlib.pyplot as plt\n",
    "from keras.models import Model\n",
    "from keras import backend as K\n",
    "import numpy as np\n",
    "import glob\n",
    "from sklearn.preprocessing import LabelBinarizer\n",
    "\n",
    "from sklearn.metrics import roc_curve\n",
    "from sklearn.neighbors import KNeighborsClassifier\n",
    "import random\n",
    "import matplotlib.patheffects as PathEffects\n",
    "from keras.layers import Input, Conv2D, Lambda, Dense, Flatten,MaxPooling2D, concatenate\n",
    "from keras.models import Model, Sequential\n",
    "from keras.regularizers import l2\n",
    "from keras import backend as K\n",
    "from keras.optimizers import SGD,Adam\n",
    "from keras.losses import binary_crossentropy\n",
    "import os\n",
    "import pickle\n",
    "import matplotlib.pyplot as plt\n",
    "from itertools import permutations\n",
    "import seaborn as sns\n",
    "from keras.datasets import mnist\n",
    "from sklearn.manifold import TSNE\n",
    "from sklearn.svm import SVC"
   ]
  },
  {
   "cell_type": "markdown",
   "id": "20fdd686",
   "metadata": {},
   "source": [
    "###### Standard MNIST"
   ]
  },
  {
   "cell_type": "code",
   "execution_count": 3,
   "id": "bae31968",
   "metadata": {},
   "outputs": [],
   "source": [
    "(x_train,y_train),(x_test,y_test)=tf.keras.datasets.mnist.load_data()\n"
   ]
  },
  {
   "cell_type": "markdown",
   "id": "1c3483fe",
   "metadata": {},
   "source": [
    "##### Function to generate pairs.  \n",
    "1 if similar 0 if dissimilar."
   ]
  },
  {
   "cell_type": "code",
   "execution_count": 4,
   "id": "9090813e",
   "metadata": {},
   "outputs": [],
   "source": [
    "def pairs_generation(x,y):   #Function to generate positive and negative pairs\n",
    "  num_classes=max(y)+1       # Num_classes contain the number of classes\n",
    "  pairs=[]                   # Initialize an empty array to store the pairs \n",
    "  labels=[]                  # Initialize an empty array to store the labels\n",
    "  digit_indices=[np.where(y==i)[0] for i in range(num_classes)]    # used to create a list of indices of the images\n",
    "  for idx in range(len(x)):                    # iterate though the entire dataset\n",
    "    x1=x[idx]                                  # pick a sample\n",
    "    label=y[idx]                               # pick a label of that sample\n",
    "    idx2=random.choice(digit_indices[label])   # randomly pick the indice of the same sample picked\n",
    "    x2=x[idx2]                                 # assign it to x2\n",
    "    pairs+=[[x1,x2]]                           # contains identical pairs\n",
    "    labels+=[1]                                # Labeled as 1 (Similar) \n",
    "\n",
    "    label2=random.randint(0,num_classes-1)    # Instantiate label2 to be a number between 0 and num_classes-1 \n",
    "    while label2==label:                     # if Label2 is identical to Label1 we will pick from num_classes-1\n",
    "      label2=random.randint(0,num_classes-1)   \n",
    "    idx2=random.choice(digit_indices[label2])  # randomly choose an idx such that it belongs to label2 which is differnet than label1\n",
    "    x2=x[idx2]                                 # Dissimilar pairs Genarated\n",
    "    pairs+=[[x1,x2]]\n",
    "    labels+=[0]\n",
    "  return np.array(pairs),np.array(labels)"
   ]
  },
  {
   "cell_type": "code",
   "execution_count": 5,
   "id": "8ee32b6b",
   "metadata": {},
   "outputs": [],
   "source": [
    "x_train=x_train.reshape(x_train.shape[0],28,28,1)\n",
    "x_test=x_test.reshape(x_test.shape[0],28,28,1)     #Some reshapping for compatibility\n"
   ]
  },
  {
   "cell_type": "markdown",
   "id": "83b838c9",
   "metadata": {},
   "source": []
  },
  {
   "cell_type": "code",
   "execution_count": 6,
   "id": "47a5fb6d",
   "metadata": {},
   "outputs": [],
   "source": [
    "train_pairs,train_labels=pairs_generation(x_train,y_train)\n",
    "test_pairs,test_labels=pairs_generation(x_test,y_test)"
   ]
  },
  {
   "cell_type": "code",
   "execution_count": 7,
   "id": "826e69a5",
   "metadata": {},
   "outputs": [],
   "source": [
    "def euclidean_distance(vects):\n",
    "    x, y = vects\n",
    "    sum_square = K.sum(K.square(x - y), axis=1, keepdims=True)\n",
    "    return K.sqrt(K.maximum(sum_square, K.epsilon()))"
   ]
  },
  {
   "cell_type": "code",
   "execution_count": 44,
   "id": "9b595c7a",
   "metadata": {},
   "outputs": [],
   "source": [
    "input=Input((28,28,1))                                               ###\n",
    "x=keras.layers.Conv2D(32,3,strides=1,activation='relu')(input)      ####\n",
    "x=keras.layers.MaxPool2D(pool_size=(2,2))(x)                         #####\n",
    "x=keras.layers.Flatten()(x)                                            #####\n",
    "dense=keras.layers.Dense(128)(x)                                        ##########\n",
    "model=keras.models.Model(input,dense)                         ################ Base Network TO be Shared ############\n",
    "\n",
    "inpu1=Input((28,28,1))                                         #Sharing of Base Network\n",
    "inpu2=Input((28,28,1))\n",
    "md1=model(inpu1)\n",
    "md2=model(inpu2)\n",
    "\n",
    "merged=keras.layers.Lambda(euclidean_distance)([md1,md2])                   #Concatenating the two networks using the Lambda layer to combine with eucledian_distance\n",
    "DL=keras.layers.Dense(1,activation='sigmoid')(merged)        #Adding a final layer       \n",
    "\n",
    "FM=Model(inputs=[inpu1,inpu2],outputs=DL)"
   ]
  },
  {
   "cell_type": "code",
   "execution_count": 45,
   "id": "661df28e",
   "metadata": {},
   "outputs": [
    {
     "name": "stdout",
     "output_type": "stream",
     "text": [
      "Model: \"functional_7\"\n",
      "__________________________________________________________________________________________________\n",
      "Layer (type)                    Output Shape         Param #     Connected to                     \n",
      "==================================================================================================\n",
      "input_5 (InputLayer)            [(None, 28, 28, 1)]  0                                            \n",
      "__________________________________________________________________________________________________\n",
      "input_6 (InputLayer)            [(None, 28, 28, 1)]  0                                            \n",
      "__________________________________________________________________________________________________\n",
      "functional_5 (Functional)       (None, 128)          692672      input_5[0][0]                    \n",
      "                                                                 input_6[0][0]                    \n",
      "__________________________________________________________________________________________________\n",
      "lambda_1 (Lambda)               (None, 1)            0           functional_5[0][0]               \n",
      "                                                                 functional_5[1][0]               \n",
      "__________________________________________________________________________________________________\n",
      "dense_3 (Dense)                 (None, 1)            2           lambda_1[0][0]                   \n",
      "==================================================================================================\n",
      "Total params: 692,674\n",
      "Trainable params: 692,674\n",
      "Non-trainable params: 0\n",
      "__________________________________________________________________________________________________\n"
     ]
    }
   ],
   "source": [
    "FM.compile(optimizer='adam',metrics=['accuracy'],loss='binary_crossentropy')\n",
    "\n",
    "FM.summary()"
   ]
  },
  {
   "cell_type": "code",
   "execution_count": 46,
   "id": "61c67137",
   "metadata": {},
   "outputs": [
    {
     "name": "stdout",
     "output_type": "stream",
     "text": [
      "Epoch 1/10\n",
      "2813/2813 [==============================] - 27s 10ms/step - loss: 2.9591 - accuracy: 0.5489 - val_loss: 0.6301 - val_accuracy: 0.6297\n",
      "Epoch 2/10\n",
      "2813/2813 [==============================] - 26s 9ms/step - loss: 0.5572 - accuracy: 0.7285 - val_loss: 0.4920 - val_accuracy: 0.7808\n",
      "Epoch 3/10\n",
      "2813/2813 [==============================] - 26s 9ms/step - loss: 0.4628 - accuracy: 0.7906 - val_loss: 0.4203 - val_accuracy: 0.8202\n",
      "Epoch 4/10\n",
      "2813/2813 [==============================] - 27s 9ms/step - loss: 0.4229 - accuracy: 0.8112 - val_loss: 0.3972 - val_accuracy: 0.8272\n",
      "Epoch 5/10\n",
      "2813/2813 [==============================] - 27s 10ms/step - loss: 0.3984 - accuracy: 0.8235 - val_loss: 0.3943 - val_accuracy: 0.8272\n",
      "Epoch 6/10\n",
      "2813/2813 [==============================] - 27s 10ms/step - loss: 0.3204 - accuracy: 0.8691 - val_loss: 0.2736 - val_accuracy: 0.8934\n",
      "Epoch 7/10\n",
      "2813/2813 [==============================] - 27s 10ms/step - loss: 0.2673 - accuracy: 0.8961 - val_loss: 0.2548 - val_accuracy: 0.9029\n",
      "Epoch 8/10\n",
      "2813/2813 [==============================] - 27s 10ms/step - loss: 0.2529 - accuracy: 0.9016 - val_loss: 0.2403 - val_accuracy: 0.9064\n",
      "Epoch 9/10\n",
      "2813/2813 [==============================] - 27s 10ms/step - loss: 0.2430 - accuracy: 0.9040 - val_loss: 0.2502 - val_accuracy: 0.8985\n",
      "Epoch 10/10\n",
      "2813/2813 [==============================] - 27s 10ms/step - loss: 0.2359 - accuracy: 0.9074 - val_loss: 0.2379 - val_accuracy: 0.9060\n"
     ]
    }
   ],
   "source": [
    "history=FM.fit([train_pairs[:,0],train_pairs[:,1]],train_labels[:],validation_split=0.25,epochs=10)"
   ]
  },
  {
   "cell_type": "code",
   "execution_count": 52,
   "id": "7081d11f",
   "metadata": {},
   "outputs": [],
   "source": [
    "from sklearn import metrics\n"
   ]
  },
  {
   "cell_type": "code",
   "execution_count": 53,
   "id": "6a1c5459",
   "metadata": {},
   "outputs": [],
   "source": [
    "preds=FM.predict([test_pairs[:,0],test_pairs[:,1]])"
   ]
  },
  {
   "cell_type": "code",
   "execution_count": 54,
   "id": "c1367ff0",
   "metadata": {},
   "outputs": [
    {
     "data": {
      "text/plain": [
       "array([1, 0, 1, ..., 0, 1, 0])"
      ]
     },
     "execution_count": 54,
     "metadata": {},
     "output_type": "execute_result"
    }
   ],
   "source": [
    "test_labels"
   ]
  },
  {
   "cell_type": "code",
   "execution_count": 55,
   "id": "9b1e41c1",
   "metadata": {},
   "outputs": [
    {
     "data": {
      "text/plain": [
       "array([[5.8819377e-01],\n",
       "       [4.8540086e-02],\n",
       "       [7.7494073e-01],\n",
       "       ...,\n",
       "       [3.7138492e-02],\n",
       "       [9.0106523e-01],\n",
       "       [5.8971811e-05]], dtype=float32)"
      ]
     },
     "execution_count": 55,
     "metadata": {},
     "output_type": "execute_result"
    }
   ],
   "source": [
    "preds"
   ]
  },
  {
   "cell_type": "code",
   "execution_count": 51,
   "id": "600dfbe4",
   "metadata": {},
   "outputs": [
    {
     "data": {
      "text/plain": [
       "array([1, 0, 1, ..., 0, 1, 0])"
      ]
     },
     "execution_count": 51,
     "metadata": {},
     "output_type": "execute_result"
    }
   ],
   "source": [
    "test_labels"
   ]
  },
  {
   "cell_type": "code",
   "execution_count": 14,
   "id": "758c08fd",
   "metadata": {},
   "outputs": [
    {
     "ename": "SyntaxError",
     "evalue": "invalid syntax (<ipython-input-14-d4cab6998351>, line 1)",
     "output_type": "error",
     "traceback": [
      "\u001b[1;36m  File \u001b[1;32m\"<ipython-input-14-d4cab6998351>\"\u001b[1;36m, line \u001b[1;32m1\u001b[0m\n\u001b[1;33m    tensorboard --logdir=/tmp/tensorboard_roc\u001b[0m\n\u001b[1;37m                         ^\u001b[0m\n\u001b[1;31mSyntaxError\u001b[0m\u001b[1;31m:\u001b[0m invalid syntax\n"
     ]
    }
   ],
   "source": [
    "tensorboard --logdir=/tmp/tensorboard_roc\n"
   ]
  },
  {
   "cell_type": "code",
   "execution_count": 56,
   "id": "8fadd1d5",
   "metadata": {},
   "outputs": [],
   "source": [
    "from sklearn.metrics import roc_curve, auc\n",
    "\n",
    "\n",
    "\n"
   ]
  },
  {
   "cell_type": "code",
   "execution_count": 67,
   "id": "00ae4f1d",
   "metadata": {},
   "outputs": [
    {
     "data": {
      "image/png": "[encoded data removed]",
      "text/plain": [
       "<Figure size 640x480 with 2 Axes>"
      ]
     },
     "metadata": {},
     "output_type": "display_data"
    }
   ],
   "source": [
    "nn_fpr_keras, nn_tpr_keras, nn_thresholds_keras = roc_curve(test_labels, preds)\n",
    "auc_keras = auc(nn_fpr_keras, nn_tpr_keras)\n",
    "plt.subplots(constrained_layout=False)\n",
    "plt.subplot(2,2,1)\n",
    "plt.plot(nn_fpr_keras, nn_tpr_keras, marker='.', label='Neural Network (auc = %0.3f)' % auc_keras)\n",
    "plt.xlabel('1-Specificity')\n",
    "plt.ylabel('Sensitivity')\n",
    "plt.subplot(2,2,4)\n",
    "plt.plot(history.history['accuracy'], label='Training Accuracy')\n",
    "plt.plot(history.history['val_accuracy'],label='Test Accuracy')\n",
    "plt.xlabel('Epochs')\n",
    "plt.ylabel('Loss')\n",
    "plt.legend()\n",
    "plt.show()\n"
   ]
  },
  {
   "cell_type": "code",
   "execution_count": null,
   "id": "79f11008",
   "metadata": {},
   "outputs": [],
   "source": []
  },
  {
   "cell_type": "code",
   "execution_count": 40,
   "id": "3c9b006e",
   "metadata": {},
   "outputs": [
    {
     "name": "stdout",
     "output_type": "stream",
     "text": [
      "AUC 0.994565145\n"
     ]
    }
   ],
   "source": [
    "print('AUC {}'.format(auc_keras))"
   ]
  },
  {
   "cell_type": "code",
   "execution_count": null,
   "id": "7cf59744",
   "metadata": {},
   "outputs": [],
   "source": []
  }
 ],
 "metadata": {
  "kernelspec": {
   "display_name": "Python 3",
   "language": "python",
   "name": "python3"
  },
  "language_info": {
   "codemirror_mode": {
    "name": "ipython",
    "version": 3
   },
   "file_extension": ".py",
   "mimetype": "text/x-python",
   "name": "python",
   "nbconvert_exporter": "python",
   "pygments_lexer": "ipython3",
   "version": "3.7.0"
  }
 },
 "nbformat": 4,
 "nbformat_minor": 5
}
