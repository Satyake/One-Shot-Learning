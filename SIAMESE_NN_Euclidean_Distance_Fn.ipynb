{
  "nbformat": 4,
  "nbformat_minor": 0,
  "metadata": {
    "colab": {
      "name": "SIAMESE NN-Euclidean Distance Fn",
      "provenance": []
    },
    "kernelspec": {
      "name": "python3",
      "display_name": "Python 3"
    }
  },
  "cells": [
    {
      "cell_type": "code",
      "metadata": {
        "id": "nWOfgDXYLjbY",
        "colab_type": "code",
        "colab": {}
      },
      "source": [
        "import keras\n",
        "from keras.layers import Dense,Conv2D\n",
        "from keras.layers import MaxPool2D\n",
        "from keras.layers import Flatten,Concatenate,Input,Lambda\n",
        "from keras.models import Sequential\n",
        "import tensorflow as tf\n",
        "import numpy as np \n",
        "import random\n",
        "import matplotlib.pyplot as plt\n",
        "from keras.models import Model\n",
        "from keras import backend as K\n",
        "import numpy as np\n",
        "import glob\n",
        "from sklearn.preprocessing import LabelBinarizer\n",
        "import cv2\n",
        "from sklearn.metrics import roc_curve\n",
        "from sklearn.neighbors import KNeighborsClassifier\n",
        "import random\n",
        "import matplotlib.patheffects as PathEffects\n",
        "from keras.layers import Input, Conv2D, Lambda, Dense, Flatten,MaxPooling2D, concatenate\n",
        "from keras.models import Model, Sequential\n",
        "from keras.regularizers import l2\n",
        "from keras import backend as K\n",
        "from keras.optimizers import SGD,Adam\n",
        "from keras.losses import binary_crossentropy\n",
        "import os\n",
        "import pickle\n",
        "import matplotlib.pyplot as plt\n",
        "from itertools import permutations\n",
        "import seaborn as sns\n",
        "from keras.datasets import mnist\n",
        "from sklearn.manifold import TSNE\n",
        "from sklearn.svm import SVC"
      ],
      "execution_count": 0,
      "outputs": []
    },
    {
      "cell_type": "code",
      "metadata": {
        "id": "JcIAEWhySLxe",
        "colab_type": "code",
        "colab": {}
      },
      "source": [
        "(x_train,y_train),(x_test,y_test)=tf.keras.datasets.mnist.load_data()"
      ],
      "execution_count": 0,
      "outputs": []
    },
    {
      "cell_type": "code",
      "metadata": {
        "id": "wYKruotFSUlR",
        "colab_type": "code",
        "colab": {
          "base_uri": "https://localhost:8080/",
          "height": 33
        },
        "outputId": "4d9e53f6-6b70-4e6b-df57-3f395cafe3d3"
      },
      "source": [
        "x_test.shape"
      ],
      "execution_count": 8,
      "outputs": [
        {
          "output_type": "execute_result",
          "data": {
            "text/plain": [
              "(10000, 28, 28)"
            ]
          },
          "metadata": {
            "tags": []
          },
          "execution_count": 8
        }
      ]
    },
    {
      "cell_type": "code",
      "metadata": {
        "id": "ajJ-Hv5_Sb99",
        "colab_type": "code",
        "colab": {}
      },
      "source": [
        "def pairs_generation(x,y):   #Function to generate positive and negative pairs\n",
        "  num_classes=max(y)+1       # Num_classes contain the number of classes\n",
        "  pairs=[]                   # Initialize an empty array to store the pairs \n",
        "  labels=[]                  # Initialize an empty array to store the labels\n",
        "  digit_indices=[np.where(y==i)[0] for i in range(num_classes)]    # used to create a list of indices of the images\n",
        "  for idx in range(len(x)):                    # iterate though the entire dataset\n",
        "    x1=x[idx]                                  # pick a sample\n",
        "    label=y[idx]                               # pick a label of that sample\n",
        "    idx2=random.choice(digit_indices[label])   # randomly pick the indice of the same sample picked\n",
        "    x2=x[idx2]                                 # assign it to x2\n",
        "    pairs+=[[x1,x2]]                           # contains identical pairs\n",
        "    labels+=[1]                                # Labeled as 1 (Similar) \n",
        "\n",
        "    label2=random.randint(0,num_classes-1)    # Instantiate label2 to be a number between 0 and num_classes-1 \n",
        "    while label2==label:                     # if Label2 is identical to Label1 we will pick from num_classes-1\n",
        "      label2=random.randint(0,num_classes-1)   \n",
        "    idx2=random.choice(digit_indices[label2])  # randomly choose an idx such that it belongs to label2 which is differnet than label1\n",
        "    x2=x[idx2]                                 # Dissimilar pairs Genarated\n",
        "    pairs+=[[x1,x2]]\n",
        "    labels+=[0]\n",
        "  return np.array(pairs),np.array(labels)\n",
        "    "
      ],
      "execution_count": 0,
      "outputs": []
    },
    {
      "cell_type": "code",
      "metadata": {
        "id": "UpaG8dglblFQ",
        "colab_type": "code",
        "colab": {}
      },
      "source": [
        "x_train=x_train.reshape(x_train.shape[0],28,28,1)\n",
        "x_test=x_test.reshape(x_test.shape[0],28,28,1)     #Some reshapping for compatibility"
      ],
      "execution_count": 0,
      "outputs": []
    },
    {
      "cell_type": "code",
      "metadata": {
        "id": "DFE-jsuNVUIn",
        "colab_type": "code",
        "colab": {}
      },
      "source": [
        "train_pairs,train_labels=pairs_generation(x_train,y_train)\n",
        "test_pairs,test_labels=pairs_generation(x_test,y_test)"
      ],
      "execution_count": 0,
      "outputs": []
    },
    {
      "cell_type": "code",
      "metadata": {
        "id": "Q_pArJNLbMcS",
        "colab_type": "code",
        "colab": {}
      },
      "source": [
        "#Eucledian Distance Function  #Imported From Keras Documentation \n",
        "def euclidean_distance(vects):\n",
        "    x, y = vects\n",
        "    sum_square = K.sum(K.square(x - y), axis=1, keepdims=True)\n",
        "    return K.sqrt(K.maximum(sum_square, K.epsilon()))\n"
      ],
      "execution_count": 0,
      "outputs": []
    },
    {
      "cell_type": "code",
      "metadata": {
        "id": "O1EVrdCyVzLL",
        "colab_type": "code",
        "colab": {}
      },
      "source": [
        "input=Input((28,28,1))                                               ###\n",
        "x=keras.layers.Conv2D(32,3,strides=1,activation='relu')(input)      ####\n",
        "x=keras.layers.MaxPool2D(pool_size=(2,2))(x)                         #####\n",
        "x=keras.layers.Flatten()(x)                                            #####\n",
        "dense=keras.layers.Dense(128)(x)                                        ##########\n",
        "model=keras.models.Model(input,dense)                         ################ Base Network TO be Shared ############\n",
        "\n",
        "inpu1=Input((28,28,1))                                         #Sharing of Base Network\n",
        "inpu2=Input((28,28,1))\n",
        "md1=model(inpu1)\n",
        "md2=model(inpu2)\n",
        "\n",
        "concat=keras.layers.concatenate([md1,md2])                   #Concatenating the two networks\n",
        "DL=keras.layers.Dense(1,activation='sigmoid')(concat)        #Adding a final layer       \n",
        "\n",
        "FM=Model(inputs=[inpu1,inpu2],outputs=DL)\n"
      ],
      "execution_count": 0,
      "outputs": []
    },
    {
      "cell_type": "code",
      "metadata": {
        "id": "gBTEfC6CZGlj",
        "colab_type": "code",
        "colab": {}
      },
      "source": [
        "FM.compile(optimizer='adam',metrics=['accuracy'],loss='binary_crossentropy')"
      ],
      "execution_count": 0,
      "outputs": []
    },
    {
      "cell_type": "code",
      "metadata": {
        "id": "zO0eJ9LjaFvc",
        "colab_type": "code",
        "colab": {
          "base_uri": "https://localhost:8080/",
          "height": 368
        },
        "outputId": "397a7c38-5bed-4861-de5d-a993fcf178bc"
      },
      "source": [
        ""
      ],
      "execution_count": 74,
      "outputs": [
        {
          "output_type": "stream",
          "text": [
            "Epoch 1/10\n",
            "120000/120000 [==============================] - 126s 1ms/step - loss: 1.1925 - accuracy: 0.4957\n",
            "Epoch 2/10\n",
            "120000/120000 [==============================] - 124s 1ms/step - loss: 0.6934 - accuracy: 0.4998\n",
            "Epoch 3/10\n",
            "120000/120000 [==============================] - 124s 1ms/step - loss: 0.6933 - accuracy: 0.5009\n",
            "Epoch 4/10\n",
            "120000/120000 [==============================] - 124s 1ms/step - loss: 0.6932 - accuracy: 0.5003\n",
            "Epoch 5/10\n",
            "120000/120000 [==============================] - 124s 1ms/step - loss: 0.6932 - accuracy: 0.4985\n",
            "Epoch 6/10\n",
            "120000/120000 [==============================] - 124s 1ms/step - loss: 0.6932 - accuracy: 0.4992\n",
            "Epoch 7/10\n",
            "120000/120000 [==============================] - 125s 1ms/step - loss: 0.6932 - accuracy: 0.4982\n",
            "Epoch 8/10\n",
            "120000/120000 [==============================] - 125s 1ms/step - loss: 0.6932 - accuracy: 0.4985\n",
            "Epoch 9/10\n",
            "120000/120000 [==============================] - 125s 1ms/step - loss: 0.6932 - accuracy: 0.5014\n",
            "Epoch 10/10\n",
            "120000/120000 [==============================] - 132s 1ms/step - loss: 0.6932 - accuracy: 0.4996\n"
          ],
          "name": "stdout"
        },
        {
          "output_type": "execute_result",
          "data": {
            "text/plain": [
              "<keras.callbacks.callbacks.History at 0x7fa67f791f28>"
            ]
          },
          "metadata": {
            "tags": []
          },
          "execution_count": 74
        }
      ]
    },
    {
      "cell_type": "code",
      "metadata": {
        "id": "TMlSI09bctsH",
        "colab_type": "code",
        "colab": {}
      },
      "source": [
        "input=Input((28,28,1))                                               ###\n",
        "x=keras.layers.Conv2D(32,3,strides=1,activation='relu')(input)      ####\n",
        "x=keras.layers.MaxPool2D(pool_size=(2,2))(x)                         #####\n",
        "x=keras.layers.Flatten()(x)                                            #####\n",
        "dense=keras.layers.Dense(128)(x)                                        ##########\n",
        "model=keras.models.Model(input,dense)                         ################ Base Network TO be Shared ############\n",
        "\n",
        "inpu1=Input((28,28,1))                                         #Sharing of Base Network\n",
        "inpu2=Input((28,28,1))\n",
        "md1=model(inpu1)\n",
        "md2=model(inpu2)\n",
        "\n",
        "merged=keras.layers.Lambda(euclidean_distance)([md1,md2])                   #Concatenating the two networks using the Lambda layer to combine with eucledian_distance\n",
        "DL=keras.layers.Dense(1,activation='sigmoid')(merged)        #Adding a final layer       \n",
        "\n",
        "FM=Model(inputs=[inpu1,inpu2],outputs=DL)\n"
      ],
      "execution_count": 0,
      "outputs": []
    },
    {
      "cell_type": "code",
      "metadata": {
        "id": "UjgDTXHvawiI",
        "colab_type": "code",
        "colab": {
          "base_uri": "https://localhost:8080/",
          "height": 368
        },
        "outputId": "1de533e1-76fa-4cc6-9f57-ef41c0bc5083"
      },
      "source": [
        "FM.compile(optimizer='adam',metrics=['accuracy'],loss='binary_crossentropy')\n",
        "FM.fit([train_pairs[:,0],train_pairs[:,1]],train_labels[:],epochs=10)"
      ],
      "execution_count": 82,
      "outputs": [
        {
          "output_type": "stream",
          "text": [
            "Epoch 1/10\n",
            "120000/120000 [==============================] - 127s 1ms/step - loss: 0.7486 - accuracy: 0.4943\n",
            "Epoch 2/10\n",
            "120000/120000 [==============================] - 126s 1ms/step - loss: 0.6747 - accuracy: 0.5244\n",
            "Epoch 3/10\n",
            "120000/120000 [==============================] - 127s 1ms/step - loss: 0.3228 - accuracy: 0.9044\n",
            "Epoch 4/10\n",
            "120000/120000 [==============================] - 127s 1ms/step - loss: 0.1766 - accuracy: 0.9529\n",
            "Epoch 5/10\n",
            "120000/120000 [==============================] - 127s 1ms/step - loss: 0.1240 - accuracy: 0.9647\n",
            "Epoch 6/10\n",
            "120000/120000 [==============================] - 127s 1ms/step - loss: 0.0985 - accuracy: 0.9701\n",
            "Epoch 7/10\n",
            "120000/120000 [==============================] - 127s 1ms/step - loss: 0.0832 - accuracy: 0.9748\n",
            "Epoch 8/10\n",
            "120000/120000 [==============================] - 127s 1ms/step - loss: 0.0733 - accuracy: 0.9772\n",
            "Epoch 9/10\n",
            "120000/120000 [==============================] - 126s 1ms/step - loss: 0.0643 - accuracy: 0.9805\n",
            "Epoch 10/10\n",
            "120000/120000 [==============================] - 127s 1ms/step - loss: 0.0582 - accuracy: 0.9826\n"
          ],
          "name": "stdout"
        },
        {
          "output_type": "execute_result",
          "data": {
            "text/plain": [
              "<keras.callbacks.callbacks.History at 0x7fa67eb109e8>"
            ]
          },
          "metadata": {
            "tags": []
          },
          "execution_count": 82
        }
      ]
    }
  ]
}